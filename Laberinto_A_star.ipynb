{
  "nbformat": 4,
  "nbformat_minor": 0,
  "metadata": {
    "colab": {
      "name": "Laberinto A_star.ipynb",
      "provenance": [],
      "collapsed_sections": []
    },
    "kernelspec": {
      "name": "python3",
      "display_name": "Python 3"
    },
    "language_info": {
      "name": "python"
    }
  },
  "cells": [
    {
      "cell_type": "code",
      "metadata": {
        "id": "VxBA13NDpAwK"
      },
      "source": [
        "import time"
      ],
      "execution_count": 1,
      "outputs": []
    },
    {
      "cell_type": "code",
      "metadata": {
        "id": "hnH-rS5co57R"
      },
      "source": [
        "class Node():\n",
        "\n",
        "    def __init__(self, parent, position):\n",
        "        self.parent = parent\n",
        "        self.position = position\n",
        "        self.g = 0\n",
        "        self.h = 0\n",
        "        self.f = 0\n",
        "    \n",
        "    def __eq__(self, other):\n",
        "        return self.position == other.position\n",
        "\n",
        "class NodeList(list):\n",
        "    def find(self, node):\n",
        "        l = [t for t in self if t.node == node]\n",
        "        return l[0] if l!= [] else None"
      ],
      "execution_count": 2,
      "outputs": []
    },
    {
      "cell_type": "code",
      "metadata": {
        "id": "peUYzGf6pHvA"
      },
      "source": [
        "def A_star(matriz, start, end):\n",
        "    startNode = Node(None, start)\n",
        "    startNode.g = startNode.h = startNode.f = 0\n",
        "    endNode = Node(None, end)\n",
        "    endNode.g = endNode.h = endNode.f = 0\n",
        "\n",
        "    openList = []\n",
        "    closedList = []\n",
        "\n",
        "    openList.append(startNode)\n",
        "\n",
        "    while len(openList) > 0:\n",
        "        currentNode = openList[0]\n",
        "        currentIndex = 0\n",
        "        for index, item in enumerate(openList):\n",
        "            if item.f < currentNode.f:\n",
        "                currentNode = item\n",
        "                currentIndex = index\n",
        "        \n",
        "        openList.pop(currentIndex)\n",
        "        closedList.append(currentNode)\n",
        "\n",
        "        if currentNode == endNode:\n",
        "            initialTime = time.time()\n",
        "            path = []\n",
        "            current = currentNode\n",
        "            while current is not None:\n",
        "                path.append(current.position)\n",
        "                current = current.parent\n",
        "            endTime = time.time()\n",
        "            totalTime = (endTime - initialTime) * 1000\n",
        "            return print(\"Path:\",path[::-1])\n",
        "            return print(\"Time:\",totalTime) \n",
        "\n",
        "        children = []\n",
        "\n",
        "        for newPosition in [(-1, 0), (1, 0), (0, 1), (0, -1)]:\n",
        "            nodePosition = (currentNode.position[0] + newPosition[0], currentNode.position[1] + newPosition[1])\n",
        "            \n",
        "            if nodePosition[0] > (len(matriz) - 1) or nodePosition[0] < 0 or nodePosition[1] > (len(matriz[len(matriz) - 1]) - 1) or nodePosition[1] < 0:\n",
        "                continue\n",
        "\n",
        "            if matriz[nodePosition[0]][nodePosition[1]] != 0:\n",
        "                continue\n",
        "\n",
        "            newNode = Node(currentNode, nodePosition)\n",
        "            children.append(newNode)\n",
        "\n",
        "        for child in children:\n",
        "            for closedChild in closedList:\n",
        "                if child == closedChild:\n",
        "                    continue\n",
        "\n",
        "            child.g = currentNode.g + 1\n",
        "            child.h = ((child.position[0] - endNode.position[0]) ** 2) + ((child.position[1] - endNode.position[1]) ** 2)\n",
        "            child.f = child.g + child.h\n",
        "\n",
        "            for openNode in openList:\n",
        "                if child == openNode and child.g > openNode.g:\n",
        "                    continue\n",
        "\n",
        "            openList.append(child)"
      ],
      "execution_count": 7,
      "outputs": []
    },
    {
      "cell_type": "code",
      "metadata": {
        "colab": {
          "base_uri": "https://localhost:8080/"
        },
        "id": "S8cj-2V7pKgF",
        "outputId": "c228a43c-0ae6-4e6d-b35b-a6b03ed344ff"
      },
      "source": [
        "def laberinto():\n",
        "  matriz = [\n",
        "            [0,0,1,0,0,0,0,1,0,0,0,0,0,0,0],\n",
        "            [1,0,0,1,0,0,0,1,0,0,0,0,0,0,0],\n",
        "            [0,1,0,0,1,0,0,1,0,0,0,0,0,0,0],\n",
        "            [0,0,1,0,0,0,0,1,0,0,0,0,0,0,0],\n",
        "            [0,0,1,0,0,0,0,0,0,0,0,0,0,0,0],\n",
        "            [0,0,1,0,1,1,1,1,0,1,0,0,0,0,0],\n",
        "            [0,0,1,0,0,0,0,0,0,0,1,0,0,0,0],\n",
        "            [0,0,1,0,0,0,0,0,0,0,0,1,0,0,0],\n",
        "            [1,1,0,0,0,0,0,0,0,0,0,0,1,0,0],\n",
        "            [0,0,0,1,1,1,1,0,0,0,0,0,0,0,0],\n",
        "            [0,0,0,0,0,0,0,0,0,0,0,0,0,0,0],\n",
        "            [0,0,0,0,0,0,0,0,0,1,0,0,1,0,0],\n",
        "            [0,0,0,0,0,0,0,1,0,1,0,0,0,1,0],\n",
        "            [0,0,0,0,1,0,1,0,0,1,0,0,0,0,1],\n",
        "            [0,0,0,0,1,0,1,0,0,1,1,1,1,0,0]\n",
        "           ]\n",
        "\n",
        "  start = (0, 0)\n",
        "  end = (14, 14)\n",
        "\n",
        "  \n",
        "  print(\"Camino y tiempo de ejecución de la primera ficha:\\n\")\n",
        "  path = A_star(matriz, start, end)\n",
        "  print(path)\n",
        "\n",
        "\n",
        "laberinto() "
      ],
      "execution_count": 8,
      "outputs": [
        {
          "output_type": "stream",
          "text": [
            "Camino y tiempo de ejecución de la primera ficha:\n",
            "\n",
            "Path: [(0, 0), (0, 1), (1, 1), (1, 2), (2, 2), (2, 3), (3, 3), (4, 3), (4, 4), (4, 5), (4, 6), (4, 7), (4, 8), (5, 8), (6, 8), (7, 8), (8, 8), (9, 8), (9, 9), (10, 9), (10, 10), (11, 10), (11, 11), (12, 11), (12, 12), (13, 12), (13, 13), (14, 13), (14, 14)]\n",
            "None\n"
          ],
          "name": "stdout"
        }
      ]
    }
  ]
}